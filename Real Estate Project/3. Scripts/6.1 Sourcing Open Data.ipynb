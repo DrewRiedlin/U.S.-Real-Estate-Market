{
 "cells": [
  {
   "cell_type": "markdown",
   "id": "08d02562-94fb-49f3-a720-fcd6db9c0a5a",
   "metadata": {},
   "source": [
    "# 6.1 Sourcing Open Data"
   ]
  },
  {
   "cell_type": "code",
   "execution_count": 2,
   "id": "9e0a142b-1b88-4e92-9f03-472daa246150",
   "metadata": {},
   "outputs": [],
   "source": [
    "#Import libraries\n",
    "import pandas as pd\n",
    "import numpy as np\n",
    "import os"
   ]
  },
  {
   "cell_type": "code",
   "execution_count": 4,
   "id": "3b968ad9-5c26-4093-b1ce-f3e5231c379c",
   "metadata": {},
   "outputs": [],
   "source": [
    "#Import Real Estate Dataframe\n",
    "df_realtor_data = pd.read_csv('/Users/ariedlin/Desktop/realtor-data.zip.csv')"
   ]
  },
  {
   "cell_type": "code",
   "execution_count": 6,
   "id": "3e2dacba-16f0-425a-b081-8080eed168af",
   "metadata": {},
   "outputs": [
    {
     "data": {
      "text/plain": [
       "(2226382, 12)"
      ]
     },
     "execution_count": 6,
     "metadata": {},
     "output_type": "execute_result"
    }
   ],
   "source": [
    "#Check the shape of the dataframe to ensure it imported correctly\n",
    "df_realtor_data.shape"
   ]
  },
  {
   "cell_type": "code",
   "execution_count": 8,
   "id": "20ac3be6-d4bb-4c64-9a7a-297cbab5b30b",
   "metadata": {},
   "outputs": [
    {
     "data": {
      "text/html": [
       "<div>\n",
       "<style scoped>\n",
       "    .dataframe tbody tr th:only-of-type {\n",
       "        vertical-align: middle;\n",
       "    }\n",
       "\n",
       "    .dataframe tbody tr th {\n",
       "        vertical-align: top;\n",
       "    }\n",
       "\n",
       "    .dataframe thead th {\n",
       "        text-align: right;\n",
       "    }\n",
       "</style>\n",
       "<table border=\"1\" class=\"dataframe\">\n",
       "  <thead>\n",
       "    <tr style=\"text-align: right;\">\n",
       "      <th></th>\n",
       "      <th>brokered_by</th>\n",
       "      <th>status</th>\n",
       "      <th>price</th>\n",
       "      <th>bed</th>\n",
       "      <th>bath</th>\n",
       "      <th>acre_lot</th>\n",
       "      <th>street</th>\n",
       "      <th>city</th>\n",
       "      <th>state</th>\n",
       "      <th>zip_code</th>\n",
       "      <th>house_size</th>\n",
       "      <th>prev_sold_date</th>\n",
       "    </tr>\n",
       "  </thead>\n",
       "  <tbody>\n",
       "    <tr>\n",
       "      <th>0</th>\n",
       "      <td>103378.0</td>\n",
       "      <td>for_sale</td>\n",
       "      <td>105000.0</td>\n",
       "      <td>3.0</td>\n",
       "      <td>2.0</td>\n",
       "      <td>0.12</td>\n",
       "      <td>1962661.0</td>\n",
       "      <td>Adjuntas</td>\n",
       "      <td>Puerto Rico</td>\n",
       "      <td>601.0</td>\n",
       "      <td>920.0</td>\n",
       "      <td>NaN</td>\n",
       "    </tr>\n",
       "    <tr>\n",
       "      <th>1</th>\n",
       "      <td>52707.0</td>\n",
       "      <td>for_sale</td>\n",
       "      <td>80000.0</td>\n",
       "      <td>4.0</td>\n",
       "      <td>2.0</td>\n",
       "      <td>0.08</td>\n",
       "      <td>1902874.0</td>\n",
       "      <td>Adjuntas</td>\n",
       "      <td>Puerto Rico</td>\n",
       "      <td>601.0</td>\n",
       "      <td>1527.0</td>\n",
       "      <td>NaN</td>\n",
       "    </tr>\n",
       "    <tr>\n",
       "      <th>2</th>\n",
       "      <td>103379.0</td>\n",
       "      <td>for_sale</td>\n",
       "      <td>67000.0</td>\n",
       "      <td>2.0</td>\n",
       "      <td>1.0</td>\n",
       "      <td>0.15</td>\n",
       "      <td>1404990.0</td>\n",
       "      <td>Juana Diaz</td>\n",
       "      <td>Puerto Rico</td>\n",
       "      <td>795.0</td>\n",
       "      <td>748.0</td>\n",
       "      <td>NaN</td>\n",
       "    </tr>\n",
       "    <tr>\n",
       "      <th>3</th>\n",
       "      <td>31239.0</td>\n",
       "      <td>for_sale</td>\n",
       "      <td>145000.0</td>\n",
       "      <td>4.0</td>\n",
       "      <td>2.0</td>\n",
       "      <td>0.10</td>\n",
       "      <td>1947675.0</td>\n",
       "      <td>Ponce</td>\n",
       "      <td>Puerto Rico</td>\n",
       "      <td>731.0</td>\n",
       "      <td>1800.0</td>\n",
       "      <td>NaN</td>\n",
       "    </tr>\n",
       "    <tr>\n",
       "      <th>4</th>\n",
       "      <td>34632.0</td>\n",
       "      <td>for_sale</td>\n",
       "      <td>65000.0</td>\n",
       "      <td>6.0</td>\n",
       "      <td>2.0</td>\n",
       "      <td>0.05</td>\n",
       "      <td>331151.0</td>\n",
       "      <td>Mayaguez</td>\n",
       "      <td>Puerto Rico</td>\n",
       "      <td>680.0</td>\n",
       "      <td>NaN</td>\n",
       "      <td>NaN</td>\n",
       "    </tr>\n",
       "    <tr>\n",
       "      <th>5</th>\n",
       "      <td>103378.0</td>\n",
       "      <td>for_sale</td>\n",
       "      <td>179000.0</td>\n",
       "      <td>4.0</td>\n",
       "      <td>3.0</td>\n",
       "      <td>0.46</td>\n",
       "      <td>1850806.0</td>\n",
       "      <td>San Sebastian</td>\n",
       "      <td>Puerto Rico</td>\n",
       "      <td>612.0</td>\n",
       "      <td>2520.0</td>\n",
       "      <td>NaN</td>\n",
       "    </tr>\n",
       "    <tr>\n",
       "      <th>6</th>\n",
       "      <td>1205.0</td>\n",
       "      <td>for_sale</td>\n",
       "      <td>50000.0</td>\n",
       "      <td>3.0</td>\n",
       "      <td>1.0</td>\n",
       "      <td>0.20</td>\n",
       "      <td>1298094.0</td>\n",
       "      <td>Ciales</td>\n",
       "      <td>Puerto Rico</td>\n",
       "      <td>639.0</td>\n",
       "      <td>2040.0</td>\n",
       "      <td>NaN</td>\n",
       "    </tr>\n",
       "    <tr>\n",
       "      <th>7</th>\n",
       "      <td>50739.0</td>\n",
       "      <td>for_sale</td>\n",
       "      <td>71600.0</td>\n",
       "      <td>3.0</td>\n",
       "      <td>2.0</td>\n",
       "      <td>0.08</td>\n",
       "      <td>1048466.0</td>\n",
       "      <td>Ponce</td>\n",
       "      <td>Puerto Rico</td>\n",
       "      <td>731.0</td>\n",
       "      <td>1050.0</td>\n",
       "      <td>NaN</td>\n",
       "    </tr>\n",
       "    <tr>\n",
       "      <th>8</th>\n",
       "      <td>81909.0</td>\n",
       "      <td>for_sale</td>\n",
       "      <td>100000.0</td>\n",
       "      <td>2.0</td>\n",
       "      <td>1.0</td>\n",
       "      <td>0.09</td>\n",
       "      <td>734904.0</td>\n",
       "      <td>Ponce</td>\n",
       "      <td>Puerto Rico</td>\n",
       "      <td>730.0</td>\n",
       "      <td>1092.0</td>\n",
       "      <td>NaN</td>\n",
       "    </tr>\n",
       "    <tr>\n",
       "      <th>9</th>\n",
       "      <td>65672.0</td>\n",
       "      <td>for_sale</td>\n",
       "      <td>300000.0</td>\n",
       "      <td>5.0</td>\n",
       "      <td>3.0</td>\n",
       "      <td>7.46</td>\n",
       "      <td>1946226.0</td>\n",
       "      <td>Las Marias</td>\n",
       "      <td>Puerto Rico</td>\n",
       "      <td>670.0</td>\n",
       "      <td>5403.0</td>\n",
       "      <td>NaN</td>\n",
       "    </tr>\n",
       "  </tbody>\n",
       "</table>\n",
       "</div>"
      ],
      "text/plain": [
       "   brokered_by    status     price  bed  bath  acre_lot     street  \\\n",
       "0     103378.0  for_sale  105000.0  3.0   2.0      0.12  1962661.0   \n",
       "1      52707.0  for_sale   80000.0  4.0   2.0      0.08  1902874.0   \n",
       "2     103379.0  for_sale   67000.0  2.0   1.0      0.15  1404990.0   \n",
       "3      31239.0  for_sale  145000.0  4.0   2.0      0.10  1947675.0   \n",
       "4      34632.0  for_sale   65000.0  6.0   2.0      0.05   331151.0   \n",
       "5     103378.0  for_sale  179000.0  4.0   3.0      0.46  1850806.0   \n",
       "6       1205.0  for_sale   50000.0  3.0   1.0      0.20  1298094.0   \n",
       "7      50739.0  for_sale   71600.0  3.0   2.0      0.08  1048466.0   \n",
       "8      81909.0  for_sale  100000.0  2.0   1.0      0.09   734904.0   \n",
       "9      65672.0  for_sale  300000.0  5.0   3.0      7.46  1946226.0   \n",
       "\n",
       "            city        state  zip_code  house_size prev_sold_date  \n",
       "0       Adjuntas  Puerto Rico     601.0       920.0            NaN  \n",
       "1       Adjuntas  Puerto Rico     601.0      1527.0            NaN  \n",
       "2     Juana Diaz  Puerto Rico     795.0       748.0            NaN  \n",
       "3          Ponce  Puerto Rico     731.0      1800.0            NaN  \n",
       "4       Mayaguez  Puerto Rico     680.0         NaN            NaN  \n",
       "5  San Sebastian  Puerto Rico     612.0      2520.0            NaN  \n",
       "6         Ciales  Puerto Rico     639.0      2040.0            NaN  \n",
       "7          Ponce  Puerto Rico     731.0      1050.0            NaN  \n",
       "8          Ponce  Puerto Rico     730.0      1092.0            NaN  \n",
       "9     Las Marias  Puerto Rico     670.0      5403.0            NaN  "
      ]
     },
     "execution_count": 8,
     "metadata": {},
     "output_type": "execute_result"
    }
   ],
   "source": [
    "#Check the head to make sure everything looks good\n",
    "df_realtor_data.head(10)"
   ]
  },
  {
   "cell_type": "markdown",
   "id": "156cb43e-f292-40ff-8a04-c8bfce4e6214",
   "metadata": {},
   "source": [
    "# Removing Unnecessary Columns"
   ]
  },
  {
   "cell_type": "code",
   "execution_count": 10,
   "id": "c1b873d4-409b-402e-9ec8-4913ba6d3aea",
   "metadata": {},
   "outputs": [],
   "source": [
    "#Drop 'brokered_by' column.  It is encrypted and not useful for analysis.\n",
    "df_realtor_data = df_realtor_data.drop(columns=['brokered_by'])"
   ]
  },
  {
   "cell_type": "code",
   "execution_count": 12,
   "id": "cc223318-4502-4623-b024-746fe2447f99",
   "metadata": {},
   "outputs": [],
   "source": [
    "#Drop 'street' column.  It is encrypted and not useful for analysis.\n",
    "df_realtor_data = df_realtor_data.drop(columns=['street'])"
   ]
  },
  {
   "cell_type": "code",
   "execution_count": 14,
   "id": "adffb034-76a5-44fd-97ce-3c6fee5b9083",
   "metadata": {},
   "outputs": [
    {
     "data": {
      "text/html": [
       "<div>\n",
       "<style scoped>\n",
       "    .dataframe tbody tr th:only-of-type {\n",
       "        vertical-align: middle;\n",
       "    }\n",
       "\n",
       "    .dataframe tbody tr th {\n",
       "        vertical-align: top;\n",
       "    }\n",
       "\n",
       "    .dataframe thead th {\n",
       "        text-align: right;\n",
       "    }\n",
       "</style>\n",
       "<table border=\"1\" class=\"dataframe\">\n",
       "  <thead>\n",
       "    <tr style=\"text-align: right;\">\n",
       "      <th></th>\n",
       "      <th>status</th>\n",
       "      <th>price</th>\n",
       "      <th>bed</th>\n",
       "      <th>bath</th>\n",
       "      <th>acre_lot</th>\n",
       "      <th>city</th>\n",
       "      <th>state</th>\n",
       "      <th>zip_code</th>\n",
       "      <th>house_size</th>\n",
       "      <th>prev_sold_date</th>\n",
       "    </tr>\n",
       "  </thead>\n",
       "  <tbody>\n",
       "    <tr>\n",
       "      <th>0</th>\n",
       "      <td>for_sale</td>\n",
       "      <td>105000.0</td>\n",
       "      <td>3.0</td>\n",
       "      <td>2.0</td>\n",
       "      <td>0.12</td>\n",
       "      <td>Adjuntas</td>\n",
       "      <td>Puerto Rico</td>\n",
       "      <td>601.0</td>\n",
       "      <td>920.0</td>\n",
       "      <td>NaN</td>\n",
       "    </tr>\n",
       "    <tr>\n",
       "      <th>1</th>\n",
       "      <td>for_sale</td>\n",
       "      <td>80000.0</td>\n",
       "      <td>4.0</td>\n",
       "      <td>2.0</td>\n",
       "      <td>0.08</td>\n",
       "      <td>Adjuntas</td>\n",
       "      <td>Puerto Rico</td>\n",
       "      <td>601.0</td>\n",
       "      <td>1527.0</td>\n",
       "      <td>NaN</td>\n",
       "    </tr>\n",
       "    <tr>\n",
       "      <th>2</th>\n",
       "      <td>for_sale</td>\n",
       "      <td>67000.0</td>\n",
       "      <td>2.0</td>\n",
       "      <td>1.0</td>\n",
       "      <td>0.15</td>\n",
       "      <td>Juana Diaz</td>\n",
       "      <td>Puerto Rico</td>\n",
       "      <td>795.0</td>\n",
       "      <td>748.0</td>\n",
       "      <td>NaN</td>\n",
       "    </tr>\n",
       "    <tr>\n",
       "      <th>3</th>\n",
       "      <td>for_sale</td>\n",
       "      <td>145000.0</td>\n",
       "      <td>4.0</td>\n",
       "      <td>2.0</td>\n",
       "      <td>0.10</td>\n",
       "      <td>Ponce</td>\n",
       "      <td>Puerto Rico</td>\n",
       "      <td>731.0</td>\n",
       "      <td>1800.0</td>\n",
       "      <td>NaN</td>\n",
       "    </tr>\n",
       "    <tr>\n",
       "      <th>4</th>\n",
       "      <td>for_sale</td>\n",
       "      <td>65000.0</td>\n",
       "      <td>6.0</td>\n",
       "      <td>2.0</td>\n",
       "      <td>0.05</td>\n",
       "      <td>Mayaguez</td>\n",
       "      <td>Puerto Rico</td>\n",
       "      <td>680.0</td>\n",
       "      <td>NaN</td>\n",
       "      <td>NaN</td>\n",
       "    </tr>\n",
       "  </tbody>\n",
       "</table>\n",
       "</div>"
      ],
      "text/plain": [
       "     status     price  bed  bath  acre_lot        city        state  zip_code  \\\n",
       "0  for_sale  105000.0  3.0   2.0      0.12    Adjuntas  Puerto Rico     601.0   \n",
       "1  for_sale   80000.0  4.0   2.0      0.08    Adjuntas  Puerto Rico     601.0   \n",
       "2  for_sale   67000.0  2.0   1.0      0.15  Juana Diaz  Puerto Rico     795.0   \n",
       "3  for_sale  145000.0  4.0   2.0      0.10       Ponce  Puerto Rico     731.0   \n",
       "4  for_sale   65000.0  6.0   2.0      0.05    Mayaguez  Puerto Rico     680.0   \n",
       "\n",
       "   house_size prev_sold_date  \n",
       "0       920.0            NaN  \n",
       "1      1527.0            NaN  \n",
       "2       748.0            NaN  \n",
       "3      1800.0            NaN  \n",
       "4         NaN            NaN  "
      ]
     },
     "execution_count": 14,
     "metadata": {},
     "output_type": "execute_result"
    }
   ],
   "source": [
    "#Ensure columns were dropped\n",
    "df_realtor_data.head()"
   ]
  },
  {
   "cell_type": "markdown",
   "id": "967b97c3-b78c-4159-9766-103f15d938f1",
   "metadata": {},
   "source": [
    "# Filtering out responses from outside the 50 US States"
   ]
  },
  {
   "cell_type": "code",
   "execution_count": 16,
   "id": "a915b7c0-a70c-4932-a403-593150adcb34",
   "metadata": {},
   "outputs": [],
   "source": [
    "#In this project, I will be focusing on real estate in the 50 US states, so I am filtering out all responses from Puerto Rico\n",
    "df_realtor_data = df_realtor_data[df_realtor_data['state'] != 'Puerto Rico']"
   ]
  },
  {
   "cell_type": "code",
   "execution_count": 49,
   "id": "6852147c-b689-44f9-a081-2f928da0bb2e",
   "metadata": {},
   "outputs": [
    {
     "name": "stdout",
     "output_type": "stream",
     "text": [
      "['Massachusetts' 'Connecticut' 'New Hampshire' 'Vermont' 'New Jersey'\n",
      " 'New York' 'South Carolina' 'Tennessee' 'Rhode Island' 'Virginia'\n",
      " 'Wyoming' 'Maine' 'Georgia' 'Pennsylvania' 'West Virginia' 'Delaware'\n",
      " 'Louisiana' 'Ohio' 'California' 'Colorado' 'Maryland' 'Missouri'\n",
      " 'Wisconsin' 'North Carolina' 'Kentucky' 'Michigan' 'Mississippi'\n",
      " 'Florida' 'Alabama' 'Texas' 'Arkansas' 'Idaho' 'Indiana' 'Illinois'\n",
      " 'New Mexico' 'Iowa' 'Minnesota' 'South Dakota' 'Nebraska' 'North Dakota'\n",
      " 'Montana' 'Oklahoma' 'Kansas' 'Oregon' 'Utah' 'Nevada' 'Washington'\n",
      " 'Arizona' 'Hawaii' 'Alaska']\n"
     ]
    }
   ],
   "source": [
    "#Check the 'state' column for unique responses to see if there are any other entities that need to be removed\n",
    "state_list = df_realtor_data['state'].unique()\n",
    "print(state_list)"
   ]
  },
  {
   "cell_type": "code",
   "execution_count": 20,
   "id": "68d95f09-743d-4069-9934-ae0e767000e3",
   "metadata": {},
   "outputs": [],
   "source": [
    "# Define the list of states to exclude\n",
    "exclude_states = ['Virgin Islands', 'Guam', 'District of Columbia', 'New Brunswick']\n",
    "\n",
    "# Filter the DataFrame to exclude those states\n",
    "df_realtor_data = df_realtor_data[~df_realtor_data['state'].isin(exclude_states)]"
   ]
  },
  {
   "cell_type": "code",
   "execution_count": 22,
   "id": "1bdd22f8-3ac2-4b1c-bc3f-37dc0d719e33",
   "metadata": {},
   "outputs": [
    {
     "name": "stdout",
     "output_type": "stream",
     "text": [
      "['Massachusetts' 'Connecticut' 'New Hampshire' 'Vermont' 'New Jersey'\n",
      " 'New York' 'South Carolina' 'Tennessee' 'Rhode Island' 'Virginia'\n",
      " 'Wyoming' 'Maine' 'Georgia' 'Pennsylvania' 'West Virginia' 'Delaware'\n",
      " 'Louisiana' 'Ohio' 'California' 'Colorado' 'Maryland' 'Missouri'\n",
      " 'Wisconsin' 'North Carolina' 'Kentucky' 'Michigan' 'Mississippi'\n",
      " 'Florida' 'Alabama' nan 'Texas' 'Arkansas' 'Idaho' 'Indiana' 'Illinois'\n",
      " 'New Mexico' 'Iowa' 'Minnesota' 'South Dakota' 'Nebraska' 'North Dakota'\n",
      " 'Montana' 'Oklahoma' 'Kansas' 'Oregon' 'Utah' 'Nevada' 'Washington'\n",
      " 'Arizona' 'Hawaii' 'Alaska']\n"
     ]
    }
   ],
   "source": [
    "#Check the 'state' column again to make sure exclude_states have been filtered out\n",
    "state_list = df_realtor_data['state'].unique()\n",
    "print(state_list)"
   ]
  },
  {
   "cell_type": "markdown",
   "id": "8641a10a-0322-485b-9e69-6a9a2f361b9c",
   "metadata": {},
   "source": [
    "# Checking for missing values"
   ]
  },
  {
   "cell_type": "code",
   "execution_count": 24,
   "id": "cc006307-e494-4fcb-9866-b76ece581acd",
   "metadata": {},
   "outputs": [
    {
     "name": "stdout",
     "output_type": "stream",
     "text": [
      "Number of NaN responses in the 'state' column: 8\n"
     ]
    }
   ],
   "source": [
    "#Check to see how many 'nan' responses there are for 'state'\n",
    "nan_count = df_realtor_data['state'].isna().sum()\n",
    "print(f\"Number of NaN responses in the 'state' column: {nan_count}\")"
   ]
  },
  {
   "cell_type": "code",
   "execution_count": 26,
   "id": "a8d2f06c-6009-4093-877e-1016be3f0379",
   "metadata": {},
   "outputs": [],
   "source": [
    "#Remove 'nan' responses from the dataframe because there are only 8 and it will not affect the data analysis.\n",
    "df_realtor_data = df_realtor_data.dropna(subset=['state'])"
   ]
  },
  {
   "cell_type": "code",
   "execution_count": 30,
   "id": "8d9f71b6-a755-40b6-ba85-e9b121676244",
   "metadata": {},
   "outputs": [
    {
     "name": "stdout",
     "output_type": "stream",
     "text": [
      "Number of missing values in the 'price' column: 1541\n"
     ]
    }
   ],
   "source": [
    "#Check the 'price' column to see if there are missing values\n",
    "missing_price_count = df_realtor_data['price'].isna().sum()\n",
    "print(f\"Number of missing values in the 'price' column: {missing_price_count}\")"
   ]
  },
  {
   "cell_type": "code",
   "execution_count": 32,
   "id": "d2e4bfb0-745f-4c0e-b56a-76b17b5a282c",
   "metadata": {},
   "outputs": [],
   "source": [
    "#Remove responses missing 'price' from the dataframe.  Price is a critical variable, and responses missing values are not helpful for analysis\n",
    "df_realtor_data = df_realtor_data.dropna(subset=['price'])"
   ]
  },
  {
   "cell_type": "code",
   "execution_count": 41,
   "id": "d8d75c39-f02d-405f-b4fc-3274ba7dd41e",
   "metadata": {},
   "outputs": [
    {
     "name": "stdout",
     "output_type": "stream",
     "text": [
      "Number of missing values in the 'bed' column: 479109\n"
     ]
    }
   ],
   "source": [
    "#Check the 'bed' column to see if there are missing values\n",
    "missing_bed_count = df_realtor_data['bed'].isna().sum()\n",
    "print(f\"Number of missing values in the 'bed' column: {missing_bed_count}\")"
   ]
  },
  {
   "cell_type": "code",
   "execution_count": 39,
   "id": "01f31167-e103-42e1-afe8-3f06c45138e4",
   "metadata": {},
   "outputs": [
    {
     "name": "stdout",
     "output_type": "stream",
     "text": [
      "Number of missing values in the 'bath' column: 509365\n"
     ]
    }
   ],
   "source": [
    "#Check the 'bath' column to see if there are missing values\n",
    "missing_bath_count = df_realtor_data['bath'].isna().sum()\n",
    "print(f\"Number of missing values in the 'bath' column: {missing_bath_count}\")"
   ]
  },
  {
   "cell_type": "markdown",
   "id": "999d1edb-a045-4fa8-b8b9-df8b8c6ee330",
   "metadata": {},
   "source": [
    "I am choosing not to remove these missing values because unseful information can still be gained from those responses from their location and price.  Also, there are too many missing values."
   ]
  },
  {
   "cell_type": "code",
   "execution_count": 43,
   "id": "ce6cabe2-bb1f-48c0-92a0-c9978825b5ad",
   "metadata": {},
   "outputs": [
    {
     "name": "stdout",
     "output_type": "stream",
     "text": [
      "Number of missing values in the 'acre_lot' column: 320527\n"
     ]
    }
   ],
   "source": [
    "#Check the 'acre_lot' column to see if there are missing values\n",
    "missing_acre_lot_count = df_realtor_data['acre_lot'].isna().sum()\n",
    "print(f\"Number of missing values in the 'acre_lot' column: {missing_acre_lot_count}\")"
   ]
  },
  {
   "cell_type": "code",
   "execution_count": 45,
   "id": "3e53e5fd-f4d8-4dc2-a2ab-869608ce6bfc",
   "metadata": {},
   "outputs": [
    {
     "name": "stdout",
     "output_type": "stream",
     "text": [
      "Number of missing values in the 'house_size' column: 566148\n"
     ]
    }
   ],
   "source": [
    "#Check the 'house_size' column to see if there are missing values\n",
    "missing_house_size_count = df_realtor_data['house_size'].isna().sum()\n",
    "print(f\"Number of missing values in the 'house_size' column: {missing_house_size_count}\")"
   ]
  },
  {
   "cell_type": "code",
   "execution_count": 56,
   "id": "ed1b6bfb-cfbb-42a1-b33e-324f5068805a",
   "metadata": {},
   "outputs": [
    {
     "name": "stdout",
     "output_type": "stream",
     "text": [
      "Number of missing values in the 'prev_sold_date' column: 728234\n"
     ]
    }
   ],
   "source": [
    "# Check the 'prev_sold_date' column to see if there are missing values\n",
    "missing_prev_sold_date_count = df_realtor_data['prev_sold_date'].isna().sum()\n",
    "print(f\"Number of missing values in the 'prev_sold_date' column: {missing_prev_sold_date_count}\")"
   ]
  },
  {
   "cell_type": "markdown",
   "id": "9dc0f45c-28d5-4900-826d-f2e98e2cb78c",
   "metadata": {},
   "source": [
    "Again, I am choosing not to remove responses missing values because I think there is still useful data in these responses.  Also, there are too many missing values."
   ]
  },
  {
   "cell_type": "markdown",
   "id": "189d6221-334a-4aa9-b452-60983e0f3db7",
   "metadata": {},
   "source": [
    "# Exploratory Data Checks"
   ]
  },
  {
   "cell_type": "code",
   "execution_count": 60,
   "id": "9c41578d-3607-41cb-bc1a-4b136c0de580",
   "metadata": {},
   "outputs": [
    {
     "name": "stdout",
     "output_type": "stream",
     "text": [
      "              price           bed          bath      acre_lot      zip_code  \\\n",
      "count  2.213697e+06  1.734588e+06  1.704332e+06  1.893170e+06  2.213427e+06   \n",
      "mean   5.228222e+05  3.277465e+00  2.496883e+00  1.513375e+01  5.236787e+04   \n",
      "std    2.142057e+06  1.566805e+00  1.653473e+00  7.573445e+02  2.888786e+04   \n",
      "min    0.000000e+00  1.000000e+00  1.000000e+00  0.000000e+00  0.000000e+00   \n",
      "25%    1.650000e+05  3.000000e+00  2.000000e+00  1.500000e-01  2.969000e+04   \n",
      "50%    3.250000e+05  3.000000e+00  2.000000e+00  2.600000e-01  4.865300e+04   \n",
      "75%    5.500000e+05  4.000000e+00  3.000000e+00  9.900000e-01  7.813000e+04   \n",
      "max    2.147484e+09  4.730000e+02  8.300000e+02  1.000000e+05  9.999900e+04   \n",
      "\n",
      "         house_size  \n",
      "count  1.647549e+06  \n",
      "mean   2.719358e+03  \n",
      "std    8.106970e+05  \n",
      "min    4.000000e+00  \n",
      "25%    1.300000e+03  \n",
      "50%    1.761000e+03  \n",
      "75%    2.414000e+03  \n",
      "max    1.040400e+09  \n"
     ]
    }
   ],
   "source": [
    "#Check the summary of the data frame\n",
    "print(df_realtor_data.describe())"
   ]
  },
  {
   "cell_type": "code",
   "execution_count": 62,
   "id": "ba5957da-1397-4223-b245-e8b128425a3d",
   "metadata": {},
   "outputs": [
    {
     "name": "stdout",
     "output_type": "stream",
     "text": [
      "status             object\n",
      "price             float64\n",
      "bed               float64\n",
      "bath              float64\n",
      "acre_lot          float64\n",
      "city               object\n",
      "state              object\n",
      "zip_code          float64\n",
      "house_size        float64\n",
      "prev_sold_date     object\n",
      "dtype: object\n"
     ]
    }
   ],
   "source": [
    "#Check data types\n",
    "print(df_realtor_data.dtypes)"
   ]
  },
  {
   "cell_type": "code",
   "execution_count": 64,
   "id": "c2f4a4e4-f340-431a-8bad-b862c56619b6",
   "metadata": {},
   "outputs": [],
   "source": [
    "#Import Seaborn and Matplotlib\n",
    "import seaborn as sns\n",
    "import matplotlib.pyplot as plt"
   ]
  },
  {
   "cell_type": "code",
   "execution_count": 68,
   "id": "d1ed086d-aac9-4ccf-9835-c7f0b2822569",
   "metadata": {},
   "outputs": [
    {
     "data": {
      "image/png": "[encoded data removed]",
      "text/plain": [
       "<Figure size 640x480 with 1 Axes>"
      ]
     },
     "metadata": {},
     "output_type": "display_data"
    }
   ],
   "source": [
    "# Check for outliers in the 'price' column\n",
    "sns.boxplot(x=df_realtor_data['price'])\n",
    "\n",
    "# Add axis labels and a title\n",
    "plt.xlabel('Price')\n",
    "plt.title('Boxplot of Housing Prices')\n",
    "\n",
    "# Show the plot\n",
    "plt.show()"
   ]
  },
  {
   "cell_type": "markdown",
   "id": "06a2f867-71e9-4cd8-9a8e-3ca8e00e9650",
   "metadata": {},
   "source": [
    "# Removing Outliers"
   ]
  },
  {
   "cell_type": "markdown",
   "id": "e9b18855-6d3c-45eb-b1b8-b3e55c8f5879",
   "metadata": {},
   "source": [
    "There are some outliers within the 'price' column that need to be removed.  For instance, the max shows that a house was listed for over 2 billion dollars, and the min shows a listing for 0 dollars which are both unrealistic.  If he outliers are not removed, they will potentially skew our results."
   ]
  },
  {
   "cell_type": "code",
   "execution_count": 76,
   "id": "e17b20c2-4fe2-4d99-8673-20cd387d6792",
   "metadata": {},
   "outputs": [
    {
     "name": "stdout",
     "output_type": "stream",
     "text": [
      "Original DataFrame shape: (2213697, 10)\n",
      "DataFrame shape after removing outliers: (2043907, 10)\n"
     ]
    }
   ],
   "source": [
    "#Removing Outliers\n",
    "#Calculate Q1 (25th percentile) and Q3 (75th percentile)\n",
    "Q1 = df_realtor_data['price'].quantile(0.25)\n",
    "Q3 = df_realtor_data['price'].quantile(0.75)\n",
    "\n",
    "#Calculate IQR\n",
    "IQR = Q3 - Q1\n",
    "\n",
    "#Define the lower and upper bounds for outliers\n",
    "lower_bound = Q1 - 1.5 * IQR\n",
    "upper_bound = Q3 + 1.5 * IQR\n",
    "\n",
    "#Filter the DataFrame to remove outliers in the 'price' column\n",
    "df_realtor_data_no_outliers = df_realtor_data[(df_realtor_data['price'] >= lower_bound) & (df_realtor_data['price'] <= upper_bound)]\n",
    "\n",
    "#Show the new DataFrame without outliers\n",
    "print(f\"Original DataFrame shape: {df_realtor_data.shape}\")\n",
    "print(f\"DataFrame shape after removing outliers: {df_realtor_data_no_outliers.shape}\")"
   ]
  },
  {
   "cell_type": "code",
   "execution_count": 80,
   "id": "d4fad56a-b1ea-4f7c-b17d-47a35925e9e7",
   "metadata": {},
   "outputs": [
    {
     "name": "stdout",
     "output_type": "stream",
     "text": [
      "              price           bed          bath      acre_lot      zip_code  \\\n",
      "count  2.043907e+06  1.590102e+06  1.561137e+06  1.749424e+06  2.043680e+06   \n",
      "mean   3.423756e+05  3.186926e+00  2.350249e+00  1.248848e+01  5.177659e+04   \n",
      "std    2.442689e+05  1.308319e+00  1.428332e+00  7.452733e+02  2.831838e+04   \n",
      "min    0.000000e+00  1.000000e+00  1.000000e+00  0.000000e+00  6.040000e+02   \n",
      "25%    1.500000e+05  3.000000e+00  2.000000e+00  1.500000e-01  2.969000e+04   \n",
      "50%    2.999000e+05  3.000000e+00  2.000000e+00  2.600000e-01  4.809800e+04   \n",
      "75%    4.791565e+05  4.000000e+00  3.000000e+00  9.100000e-01  7.743300e+04   \n",
      "max    1.127500e+06  4.730000e+02  8.300000e+02  1.000000e+05  9.999900e+04   \n",
      "\n",
      "         house_size  \n",
      "count  1.509894e+06  \n",
      "mean   2.616677e+03  \n",
      "std    8.467697e+05  \n",
      "min    1.000000e+02  \n",
      "25%    1.274000e+03  \n",
      "50%    1.700000e+03  \n",
      "75%    2.291000e+03  \n",
      "max    1.040400e+09  \n"
     ]
    }
   ],
   "source": [
    "#Check the updated summary of the data frame\n",
    "print(df_realtor_data_no_outliers.describe())"
   ]
  },
  {
   "cell_type": "markdown",
   "id": "9a955b2d-b971-4ab2-9e59-7b40423a6c9a",
   "metadata": {},
   "source": [
    "Removing the outliers removed the high priced outlier, but the min stayed at 0."
   ]
  },
  {
   "cell_type": "markdown",
   "id": "c3d3fe04-f841-4180-bd1d-b24a97ecace2",
   "metadata": {},
   "source": [
    "# Create new variable 'price_range' based off 'price'"
   ]
  },
  {
   "cell_type": "code",
   "execution_count": 84,
   "id": "c8584d64-c0eb-4199-a078-d4cfa843caa0",
   "metadata": {},
   "outputs": [
    {
     "name": "stdout",
     "output_type": "stream",
     "text": [
      "         price price_range\n",
      "3403  180000.0   Low Range\n",
      "3404   25000.0   Low Range\n",
      "3405  169900.0   Low Range\n",
      "3406  242000.0   Low Range\n",
      "3407  299950.0   Low Range\n"
     ]
    },
    {
     "name": "stderr",
     "output_type": "stream",
     "text": [
      "/var/folders/zg/lgqcn1jn6md3p8399q9rqkwm0000gn/T/ipykernel_44585/895156456.py:6: SettingWithCopyWarning: \n",
      "A value is trying to be set on a copy of a slice from a DataFrame.\n",
      "Try using .loc[row_indexer,col_indexer] = value instead\n",
      "\n",
      "See the caveats in the documentation: https://pandas.pydata.org/pandas-docs/stable/user_guide/indexing.html#returning-a-view-versus-a-copy\n",
      "  df_realtor_data_no_outliers['price_range'] = pd.cut(df_realtor_data_no_outliers['price'], bins=bins, labels=labels, right=True)\n"
     ]
    }
   ],
   "source": [
    "#Define the price range bins and labels\n",
    "bins = [0, 299999, 699999, float('inf')]  # Define the bins for low, medium, and high ranges\n",
    "labels = ['Low Range', 'Med Range', 'High Range']  # Labels for the bins\n",
    "\n",
    "#Create a new column 'price_range' based on the 'price' column\n",
    "df_realtor_data_no_outliers['price_range'] = pd.cut(df_realtor_data_no_outliers['price'], bins=bins, labels=labels, right=True)\n",
    "\n",
    "#Show the updated DataFrame with 'price' and 'price_range'\n",
    "print(df_realtor_data_no_outliers[['price', 'price_range']].head())"
   ]
  },
  {
   "cell_type": "code",
   "execution_count": 86,
   "id": "f7dea403-285c-41a5-90dc-fe5dff89822d",
   "metadata": {},
   "outputs": [
    {
     "name": "stdout",
     "output_type": "stream",
     "text": [
      "price_range\n",
      "Low Range     1035309\n",
      "Med Range      811795\n",
      "High Range     196523\n",
      "Name: count, dtype: int64\n"
     ]
    }
   ],
   "source": [
    "#Find value counts for the 'price_range' column to see the distribution\n",
    "price_range_counts = df_realtor_data_no_outliers['price_range'].value_counts()\n",
    "\n",
    "#Display the counts\n",
    "print(price_range_counts)"
   ]
  },
  {
   "cell_type": "code",
   "execution_count": 90,
   "id": "d7136c52-448d-4059-8ae6-a1401ab17b8c",
   "metadata": {},
   "outputs": [
    {
     "data": {
      "text/html": [
       "<div>\n",
       "<style scoped>\n",
       "    .dataframe tbody tr th:only-of-type {\n",
       "        vertical-align: middle;\n",
       "    }\n",
       "\n",
       "    .dataframe tbody tr th {\n",
       "        vertical-align: top;\n",
       "    }\n",
       "\n",
       "    .dataframe thead th {\n",
       "        text-align: right;\n",
       "    }\n",
       "</style>\n",
       "<table border=\"1\" class=\"dataframe\">\n",
       "  <thead>\n",
       "    <tr style=\"text-align: right;\">\n",
       "      <th></th>\n",
       "      <th>status</th>\n",
       "      <th>price</th>\n",
       "      <th>bed</th>\n",
       "      <th>bath</th>\n",
       "      <th>acre_lot</th>\n",
       "      <th>city</th>\n",
       "      <th>state</th>\n",
       "      <th>zip_code</th>\n",
       "      <th>house_size</th>\n",
       "      <th>prev_sold_date</th>\n",
       "      <th>price_range</th>\n",
       "    </tr>\n",
       "  </thead>\n",
       "  <tbody>\n",
       "    <tr>\n",
       "      <th>3403</th>\n",
       "      <td>for_sale</td>\n",
       "      <td>180000.0</td>\n",
       "      <td>2.0</td>\n",
       "      <td>1.0</td>\n",
       "      <td>0.34</td>\n",
       "      <td>Agawam</td>\n",
       "      <td>Massachusetts</td>\n",
       "      <td>1001.0</td>\n",
       "      <td>676.0</td>\n",
       "      <td>NaN</td>\n",
       "      <td>Low Range</td>\n",
       "    </tr>\n",
       "    <tr>\n",
       "      <th>3404</th>\n",
       "      <td>for_sale</td>\n",
       "      <td>25000.0</td>\n",
       "      <td>NaN</td>\n",
       "      <td>NaN</td>\n",
       "      <td>3.41</td>\n",
       "      <td>Agawam</td>\n",
       "      <td>Massachusetts</td>\n",
       "      <td>1001.0</td>\n",
       "      <td>NaN</td>\n",
       "      <td>NaN</td>\n",
       "      <td>Low Range</td>\n",
       "    </tr>\n",
       "    <tr>\n",
       "      <th>3405</th>\n",
       "      <td>for_sale</td>\n",
       "      <td>169900.0</td>\n",
       "      <td>2.0</td>\n",
       "      <td>2.0</td>\n",
       "      <td>NaN</td>\n",
       "      <td>Agawam</td>\n",
       "      <td>Massachusetts</td>\n",
       "      <td>1001.0</td>\n",
       "      <td>892.0</td>\n",
       "      <td>2019-04-30</td>\n",
       "      <td>Low Range</td>\n",
       "    </tr>\n",
       "    <tr>\n",
       "      <th>3406</th>\n",
       "      <td>for_sale</td>\n",
       "      <td>242000.0</td>\n",
       "      <td>2.0</td>\n",
       "      <td>2.0</td>\n",
       "      <td>NaN</td>\n",
       "      <td>Agawam</td>\n",
       "      <td>Massachusetts</td>\n",
       "      <td>1001.0</td>\n",
       "      <td>1428.0</td>\n",
       "      <td>NaN</td>\n",
       "      <td>Low Range</td>\n",
       "    </tr>\n",
       "    <tr>\n",
       "      <th>3407</th>\n",
       "      <td>for_sale</td>\n",
       "      <td>299950.0</td>\n",
       "      <td>2.0</td>\n",
       "      <td>2.0</td>\n",
       "      <td>NaN</td>\n",
       "      <td>Agawam</td>\n",
       "      <td>Massachusetts</td>\n",
       "      <td>1001.0</td>\n",
       "      <td>1659.0</td>\n",
       "      <td>NaN</td>\n",
       "      <td>Low Range</td>\n",
       "    </tr>\n",
       "    <tr>\n",
       "      <th>...</th>\n",
       "      <td>...</td>\n",
       "      <td>...</td>\n",
       "      <td>...</td>\n",
       "      <td>...</td>\n",
       "      <td>...</td>\n",
       "      <td>...</td>\n",
       "      <td>...</td>\n",
       "      <td>...</td>\n",
       "      <td>...</td>\n",
       "      <td>...</td>\n",
       "      <td>...</td>\n",
       "    </tr>\n",
       "    <tr>\n",
       "      <th>3500</th>\n",
       "      <td>for_sale</td>\n",
       "      <td>80000.0</td>\n",
       "      <td>NaN</td>\n",
       "      <td>NaN</td>\n",
       "      <td>8.15</td>\n",
       "      <td>Barre</td>\n",
       "      <td>Massachusetts</td>\n",
       "      <td>1005.0</td>\n",
       "      <td>NaN</td>\n",
       "      <td>NaN</td>\n",
       "      <td>Low Range</td>\n",
       "    </tr>\n",
       "    <tr>\n",
       "      <th>3501</th>\n",
       "      <td>for_sale</td>\n",
       "      <td>189900.0</td>\n",
       "      <td>2.0</td>\n",
       "      <td>2.0</td>\n",
       "      <td>0.23</td>\n",
       "      <td>Barre</td>\n",
       "      <td>Massachusetts</td>\n",
       "      <td>1005.0</td>\n",
       "      <td>1200.0</td>\n",
       "      <td>NaN</td>\n",
       "      <td>Low Range</td>\n",
       "    </tr>\n",
       "    <tr>\n",
       "      <th>3502</th>\n",
       "      <td>for_sale</td>\n",
       "      <td>89000.0</td>\n",
       "      <td>NaN</td>\n",
       "      <td>NaN</td>\n",
       "      <td>5.09</td>\n",
       "      <td>Barre</td>\n",
       "      <td>Massachusetts</td>\n",
       "      <td>1005.0</td>\n",
       "      <td>NaN</td>\n",
       "      <td>NaN</td>\n",
       "      <td>Low Range</td>\n",
       "    </tr>\n",
       "    <tr>\n",
       "      <th>3503</th>\n",
       "      <td>for_sale</td>\n",
       "      <td>273900.0</td>\n",
       "      <td>3.0</td>\n",
       "      <td>1.0</td>\n",
       "      <td>0.12</td>\n",
       "      <td>Barre</td>\n",
       "      <td>Massachusetts</td>\n",
       "      <td>1005.0</td>\n",
       "      <td>1175.0</td>\n",
       "      <td>1996-12-13</td>\n",
       "      <td>Low Range</td>\n",
       "    </tr>\n",
       "    <tr>\n",
       "      <th>3504</th>\n",
       "      <td>for_sale</td>\n",
       "      <td>318000.0</td>\n",
       "      <td>3.0</td>\n",
       "      <td>1.0</td>\n",
       "      <td>8.47</td>\n",
       "      <td>Barre</td>\n",
       "      <td>Massachusetts</td>\n",
       "      <td>1005.0</td>\n",
       "      <td>1308.0</td>\n",
       "      <td>NaN</td>\n",
       "      <td>Med Range</td>\n",
       "    </tr>\n",
       "  </tbody>\n",
       "</table>\n",
       "<p>100 rows × 11 columns</p>\n",
       "</div>"
      ],
      "text/plain": [
       "        status     price  bed  bath  acre_lot    city          state  \\\n",
       "3403  for_sale  180000.0  2.0   1.0      0.34  Agawam  Massachusetts   \n",
       "3404  for_sale   25000.0  NaN   NaN      3.41  Agawam  Massachusetts   \n",
       "3405  for_sale  169900.0  2.0   2.0       NaN  Agawam  Massachusetts   \n",
       "3406  for_sale  242000.0  2.0   2.0       NaN  Agawam  Massachusetts   \n",
       "3407  for_sale  299950.0  2.0   2.0       NaN  Agawam  Massachusetts   \n",
       "...        ...       ...  ...   ...       ...     ...            ...   \n",
       "3500  for_sale   80000.0  NaN   NaN      8.15   Barre  Massachusetts   \n",
       "3501  for_sale  189900.0  2.0   2.0      0.23   Barre  Massachusetts   \n",
       "3502  for_sale   89000.0  NaN   NaN      5.09   Barre  Massachusetts   \n",
       "3503  for_sale  273900.0  3.0   1.0      0.12   Barre  Massachusetts   \n",
       "3504  for_sale  318000.0  3.0   1.0      8.47   Barre  Massachusetts   \n",
       "\n",
       "      zip_code  house_size prev_sold_date price_range  \n",
       "3403    1001.0       676.0            NaN   Low Range  \n",
       "3404    1001.0         NaN            NaN   Low Range  \n",
       "3405    1001.0       892.0     2019-04-30   Low Range  \n",
       "3406    1001.0      1428.0            NaN   Low Range  \n",
       "3407    1001.0      1659.0            NaN   Low Range  \n",
       "...        ...         ...            ...         ...  \n",
       "3500    1005.0         NaN            NaN   Low Range  \n",
       "3501    1005.0      1200.0            NaN   Low Range  \n",
       "3502    1005.0         NaN            NaN   Low Range  \n",
       "3503    1005.0      1175.0     1996-12-13   Low Range  \n",
       "3504    1005.0      1308.0            NaN   Med Range  \n",
       "\n",
       "[100 rows x 11 columns]"
      ]
     },
     "execution_count": 90,
     "metadata": {},
     "output_type": "execute_result"
    }
   ],
   "source": [
    "#Check the head to make sure everything looks good\n",
    "df_realtor_data_no_outliers.head(100)"
   ]
  },
  {
   "cell_type": "code",
   "execution_count": 94,
   "id": "6a791527-ce56-4ff4-a223-5516a746e304",
   "metadata": {},
   "outputs": [],
   "source": [
    "#Rename the dataframe\n",
    "df_realtor_data_cleaned = df_realtor_data_no_outliers"
   ]
  },
  {
   "cell_type": "code",
   "execution_count": 96,
   "id": "7a487ffb-b0bf-4b26-822c-ad20dd2d5a47",
   "metadata": {},
   "outputs": [],
   "source": [
    "#Export the cleaned dataframe\n",
    "df_realtor_data_cleaned.to_pickle('/Users/ariedlin/Desktop/Career Foundry Assignments/6.1-6.7/df_realtor_data_cleaned')"
   ]
  },
  {
   "cell_type": "code",
   "execution_count": null,
   "id": "f4f27d2d-c3ae-4b09-8231-ecadfe45f06a",
   "metadata": {},
   "outputs": [],
   "source": []
  }
 ],
 "metadata": {
  "kernelspec": {
   "display_name": "Python [conda env:base] *",
   "language": "python",
   "name": "conda-base-py"
  },
  "language_info": {
   "codemirror_mode": {
    "name": "ipython",
    "version": 3
   },
   "file_extension": ".py",
   "mimetype": "text/x-python",
   "name": "python",
   "nbconvert_exporter": "python",
   "pygments_lexer": "ipython3",
   "version": "3.12.4"
  }
 },
 "nbformat": 4,
 "nbformat_minor": 5
}
